{
 "cells": [
  {
   "cell_type": "code",
   "execution_count": 1,
   "metadata": {
    "collapsed": true
   },
   "outputs": [],
   "source": [
    "import pandas as pd\n",
    "import random\n",
    "import shutil\n",
    "import os"
   ]
  },
  {
   "cell_type": "code",
   "execution_count": 2,
   "metadata": {},
   "outputs": [
    {
     "name": "stdout",
     "output_type": "stream",
     "text": [
      "(1216406, 2)\n",
      "(1179913, 2) (36493, 2)\n"
     ]
    }
   ],
   "source": [
    "data = pd.read_csv('/mnt/disks/dataset/downloaded_train.csv').values\n",
    "train_percent = 0.97\n",
    "\n",
    "print(data.shape)\n",
    "train_data = data[0:int(train_percent * data.shape[0]), :]\n",
    "val_data = data[int(train_percent * data.shape[0]):, :]\n",
    "\n",
    "print(train_data.shape, val_data.shape)"
   ]
  },
  {
   "cell_type": "code",
   "execution_count": 3,
   "metadata": {},
   "outputs": [
    {
     "name": "stdout",
     "output_type": "stream",
     "text": [
      "[['ceb374c529db84e2' 2975]\n",
      " ['472ba787c1d0b2e8' 1966]\n",
      " ['9d85234207d66766' 10577]\n",
      " ['503c62cd19f01bbe' 10045]\n",
      " ['020f8ff2aaf363e4' 5557]\n",
      " ['7e3acab229c1a4c0' 4352]\n",
      " ['17f34756b09608ab' 3558]\n",
      " ['904a4fbc38da07ea' 5475]\n",
      " ['328ba9afc1ed6652' 5554]\n",
      " ['d18689646b30517b' 8289]]\n"
     ]
    }
   ],
   "source": [
    "print(train_data[0:10,:])"
   ]
  },
  {
   "cell_type": "code",
   "execution_count": 5,
   "metadata": {
    "collapsed": true,
    "scrolled": true
   },
   "outputs": [],
   "source": [
    "data_dir = '/mnt/disks/dataset/train'\n",
    "val_dir = '/mnt/disks/dataset/val'\n",
    "\n",
    "for i in range(val_data.shape[0]):\n",
    "    \n",
    "    image = val_data[i,0] + '.jpg'\n",
    "    label = val_data[i,1]\n",
    "    \n",
    "    source_path = os.path.join(data_dir, image)\n",
    "    dest_dir = os.path.join(val_dir, str(label))  \n",
    "    dest_path = os.path.join(dest_dir, image)\n",
    "    \n",
    "    if not os.path.exists(val_dir):\n",
    "        os.mkdir(val_dir)\n",
    "        \n",
    "    try: \n",
    "        if not os.path.exists(dest_dir):\n",
    "            os.mkdir(dest_dir)            \n",
    "        \n",
    "        shutil.move(source_path, dest_path)\n",
    "    except:\n",
    "        pass"
   ]
  },
  {
   "cell_type": "code",
   "execution_count": 7,
   "metadata": {
    "collapsed": true
   },
   "outputs": [],
   "source": [
    "for i in range(train_data.shape[0]):\n",
    "    \n",
    "    image = train_data[i,0] + '.jpg'\n",
    "    label = train_data[i,1]\n",
    "    \n",
    "    source_path = os.path.join(data_dir, image)\n",
    "    dest_dir = os.path.join(data_dir, str(label))  \n",
    "    dest_path = os.path.join(dest_dir, image)\n",
    "    \n",
    "    if not os.path.exists(data_dir):\n",
    "        os.mkdir(data_dir)\n",
    "        \n",
    "    try: \n",
    "        if not os.path.exists(dest_dir):\n",
    "            os.mkdir(dest_dir)            \n",
    "        \n",
    "        shutil.move(source_path, dest_path)\n",
    "    except:\n",
    "        pass"
   ]
  }
 ],
 "metadata": {
  "kernelspec": {
   "display_name": "Python 3",
   "language": "python",
   "name": "python3"
  },
  "language_info": {
   "codemirror_mode": {
    "name": "ipython",
    "version": 3
   },
   "file_extension": ".py",
   "mimetype": "text/x-python",
   "name": "python",
   "nbconvert_exporter": "python",
   "pygments_lexer": "ipython3",
   "version": "3.5.2"
  }
 },
 "nbformat": 4,
 "nbformat_minor": 2
}
